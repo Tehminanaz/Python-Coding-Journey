{
  "nbformat": 4,
  "nbformat_minor": 0,
  "metadata": {
    "colab": {
      "provenance": [],
      "authorship_tag": "ABX9TyNcCnXdhmj16ZxzjeMe6RTV",
      "include_colab_link": true
    },
    "kernelspec": {
      "name": "python3",
      "display_name": "Python 3"
    },
    "language_info": {
      "name": "python"
    }
  },
  "cells": [
    {
      "cell_type": "markdown",
      "metadata": {
        "id": "view-in-github",
        "colab_type": "text"
      },
      "source": [
        "<a href=\"https://colab.research.google.com/github/Tehminanaz/Python-Coding-Journey/blob/main/Python-Coding-Journey.ipynb\" target=\"_parent\"><img src=\"https://colab.research.google.com/assets/colab-badge.svg\" alt=\"Open In Colab\"/></a>"
      ]
    },
    {
      "cell_type": "code",
      "source": [
        "print(\"Hello world\")"
      ],
      "metadata": {
        "colab": {
          "base_uri": "https://localhost:8080/"
        },
        "id": "8p6FAPSqCQEK",
        "outputId": "5c65d2b4-1614-4864-cab6-38e27c7a5ada"
      },
      "execution_count": null,
      "outputs": [
        {
          "output_type": "stream",
          "name": "stdout",
          "text": [
            "Hello world\n"
          ]
        }
      ]
    },
    {
      "cell_type": "code",
      "source": [
        "print(2+2)"
      ],
      "metadata": {
        "colab": {
          "base_uri": "https://localhost:8080/"
        },
        "id": "sM0FMBxXCg6p",
        "outputId": "8e60cf24-8a29-4f76-f8e7-6a9e438497f1"
      },
      "execution_count": null,
      "outputs": [
        {
          "output_type": "stream",
          "name": "stdout",
          "text": [
            "4\n"
          ]
        }
      ]
    },
    {
      "cell_type": "code",
      "source": [
        "print(\"Hello\" + str(2))"
      ],
      "metadata": {
        "colab": {
          "base_uri": "https://localhost:8080/"
        },
        "id": "PHaZKgJzCkoE",
        "outputId": "51418381-566e-4641-d603-8f2797481018"
      },
      "execution_count": null,
      "outputs": [
        {
          "output_type": "stream",
          "name": "stdout",
          "text": [
            "Hello2\n"
          ]
        }
      ]
    },
    {
      "cell_type": "code",
      "source": [
        "message:str = \"One of Python's strengths is its diverse community.\"\n",
        "print(message)"
      ],
      "metadata": {
        "colab": {
          "base_uri": "https://localhost:8080/"
        },
        "id": "cEvKWnvNC_SD",
        "outputId": "ce5776ab-6107-4189-ce4d-b5346a6750ef"
      },
      "execution_count": null,
      "outputs": [
        {
          "output_type": "stream",
          "name": "stdout",
          "text": [
            "One of Python's strengths is its diverse community.\n"
          ]
        }
      ]
    },
    {
      "cell_type": "code",
      "source": [
        "# Say Hello to everyone\n",
        "print(\"Hello Python people!\")"
      ],
      "metadata": {
        "colab": {
          "base_uri": "https://localhost:8080/"
        },
        "id": "fpiQtmTZDb90",
        "outputId": "f53c0458-639e-481f-bbc3-97a5820d7042"
      },
      "execution_count": null,
      "outputs": [
        {
          "output_type": "stream",
          "name": "stdout",
          "text": [
            "Hello Python people!\n"
          ]
        }
      ]
    },
    {
      "cell_type": "code",
      "source": [
        "first_name:str = \"Tehmina\"\n",
        "last_name: str = \"Naz\"\n",
        "full_name = f\"{first_name} {last_name}\"\n",
        "print (full_name)"
      ],
      "metadata": {
        "colab": {
          "base_uri": "https://localhost:8080/"
        },
        "id": "zOT9eWUWDs2v",
        "outputId": "c7a74485-a279-4855-82c2-83737e515feb"
      },
      "execution_count": null,
      "outputs": [
        {
          "output_type": "stream",
          "name": "stdout",
          "text": [
            "Tehmina Naz\n"
          ]
        }
      ]
    },
    {
      "cell_type": "code",
      "source": [
        "#  use of title method\n",
        "first_name:str = \"tehmina\"\n",
        "last_name:str = \"naz\"\n",
        "full_name:str = f\"{first_name} {last_name}\"\n",
        "print(full_name.title())"
      ],
      "metadata": {
        "colab": {
          "base_uri": "https://localhost:8080/"
        },
        "id": "O0JgqjjSEiMt",
        "outputId": "b07bb730-d961-44a9-95af-3320d25a6776"
      },
      "execution_count": null,
      "outputs": [
        {
          "output_type": "stream",
          "name": "stdout",
          "text": [
            "Tehmina Naz\n"
          ]
        }
      ]
    },
    {
      "cell_type": "code",
      "source": [
        "# use of upprer method\n",
        "first_name:str = \"tehmina\"\n",
        "last_name:str = \"naz\"\n",
        "full_name:str = f\"{first_name} {last_name}\"\n",
        "print(f\"Hello, {full_name.upper()}!\")"
      ],
      "metadata": {
        "id": "qJJqXxxQFJ62"
      },
      "execution_count": null,
      "outputs": []
    },
    {
      "cell_type": "code",
      "source": [
        "# use of lower method\n",
        "first_name:str = \"Tehmina\"\n",
        "last_name: str = \"Naz\"\n",
        "full_name = f\"{first_name} {last_name}\"\n",
        "print(f\"Hello, {full_name.lower()}!\")\n"
      ],
      "metadata": {
        "colab": {
          "base_uri": "https://localhost:8080/"
        },
        "id": "E-GJD0T6GJ3e",
        "outputId": "7d603eb4-5550-4844-fb60-2c83291d64c5"
      },
      "execution_count": null,
      "outputs": [
        {
          "output_type": "stream",
          "name": "stdout",
          "text": [
            "Hello, tehmina naz!\n"
          ]
        }
      ]
    },
    {
      "cell_type": "code",
      "source": [
        "#  use of capitalize method\n",
        "first_name:str = \"tehmina\"\n",
        "last_name:str = \"naz\"\n",
        "full_name:str = f\"{first_name} {last_name}\"\n",
        "print(f\"Hello, {full_name.capitalize()}!\")"
      ],
      "metadata": {
        "colab": {
          "base_uri": "https://localhost:8080/"
        },
        "id": "JBHdy2yNGhzc",
        "outputId": "f02cddbe-dafa-45f2-ae89-f5e8e4c69730"
      },
      "execution_count": null,
      "outputs": [
        {
          "output_type": "stream",
          "name": "stdout",
          "text": [
            "Hello, Tehmina naz!\n"
          ]
        }
      ]
    },
    {
      "cell_type": "code",
      "source": [
        "message: str = \"Hello python world\"\n",
        "print(message)"
      ],
      "metadata": {
        "colab": {
          "base_uri": "https://localhost:8080/"
        },
        "id": "jI69uouiHQoK",
        "outputId": "c60a9ea7-2601-4020-94ea-b4f8c5537c52"
      },
      "execution_count": null,
      "outputs": [
        {
          "output_type": "stream",
          "name": "stdout",
          "text": [
            "Hello python world\n"
          ]
        }
      ]
    },
    {
      "cell_type": "code",
      "source": [
        "# Add list of bicycle brands\n",
        "bicycles: list[str] = ['trek', 'cannondale', 'redline', 'specialized']\n",
        "print(bicycles)"
      ],
      "metadata": {
        "colab": {
          "base_uri": "https://localhost:8080/"
        },
        "id": "mdYuQyZVILz3",
        "outputId": "662a4875-0ba9-4c86-b87a-81844cdf1947"
      },
      "execution_count": null,
      "outputs": [
        {
          "output_type": "stream",
          "name": "stdout",
          "text": [
            "['trek', 'cannondale', 'redline', 'specialized']\n"
          ]
        }
      ]
    },
    {
      "cell_type": "code",
      "source": [
        "# list index\n",
        "bicycles:list[str] = ['trek', 'cannondale', 'redline', 'specialized']\n",
        "print(bicycles[0])"
      ],
      "metadata": {
        "colab": {
          "base_uri": "https://localhost:8080/"
        },
        "id": "ty0EF_xrIqGB",
        "outputId": "625121f4-71b6-4003-dde2-ecd7fd8a3823"
      },
      "execution_count": null,
      "outputs": [
        {
          "output_type": "stream",
          "name": "stdout",
          "text": [
            "trek\n"
          ]
        }
      ]
    },
    {
      "cell_type": "code",
      "source": [
        "# Display the first bicycle brand with title case\n",
        "\n",
        "bicycles:list[str] = ['trek', 'cannondale', 'redline', 'specialized']\n",
        "print(bicycles[0].title())"
      ],
      "metadata": {
        "id": "KDh_w98yI2-q"
      },
      "execution_count": null,
      "outputs": []
    },
    {
      "cell_type": "code",
      "source": [
        "bicycles: list[str] = ['trek', 'cannondale', 'redline', 'specialized']\n",
        "print(bicycles[1])\n",
        "print(bicycles[3])"
      ],
      "metadata": {
        "colab": {
          "base_uri": "https://localhost:8080/"
        },
        "id": "KZpRLpJIJHVY",
        "outputId": "7408abe8-0ee0-4509-8315-6822c5d21b94"
      },
      "execution_count": null,
      "outputs": [
        {
          "output_type": "stream",
          "name": "stdout",
          "text": [
            "cannondale\n",
            "specialized\n"
          ]
        }
      ]
    },
    {
      "cell_type": "code",
      "source": [
        "bicycles: list[str] = ['trek', 'cannondale', 'redline', 'specialized']\n",
        "print(bicycles[-1])"
      ],
      "metadata": {
        "colab": {
          "base_uri": "https://localhost:8080/"
        },
        "id": "-noREDiyJREo",
        "outputId": "efb8083f-9f91-4b9b-bd6e-7f36122fe96a"
      },
      "execution_count": null,
      "outputs": [
        {
          "output_type": "stream",
          "name": "stdout",
          "text": [
            "specialized\n"
          ]
        }
      ]
    },
    {
      "cell_type": "code",
      "source": [
        "bicycles : list[str] = ['trek', 'cannondale', 'redline', 'specialized']\n",
        "message: str = f\"My frist bicycle was a {bicycles[1].title()}.\"\n",
        "print(message)"
      ],
      "metadata": {
        "colab": {
          "base_uri": "https://localhost:8080/"
        },
        "id": "hBk5wlfDMGlZ",
        "outputId": "00568dfe-94ca-47f0-a5c7-e3eb8dfeccd7"
      },
      "execution_count": null,
      "outputs": [
        {
          "output_type": "stream",
          "name": "stdout",
          "text": [
            "My frist bicycle was a Cannondale.\n"
          ]
        }
      ]
    },
    {
      "cell_type": "code",
      "source": [
        "cars:list[str] = ['bmw', 'audi', 'toyota', 'subaru']\n",
        "cars.sort()\n",
        "print(cars)"
      ],
      "metadata": {
        "colab": {
          "base_uri": "https://localhost:8080/"
        },
        "id": "9VwgWB0Vtkl0",
        "outputId": "ce16dad1-a863-4305-af80-77b29c36accf"
      },
      "execution_count": null,
      "outputs": [
        {
          "output_type": "stream",
          "name": "stdout",
          "text": [
            "['audi', 'bmw', 'subaru', 'toyota']\n"
          ]
        }
      ]
    },
    {
      "cell_type": "code",
      "source": [
        "cars:list[str] = ['bmw', 'audi', 'toyota', 'subaru']\n",
        "cars.sort(reverse=True)\n",
        "print(cars)"
      ],
      "metadata": {
        "colab": {
          "base_uri": "https://localhost:8080/"
        },
        "id": "upbqqtOIuGcZ",
        "outputId": "dd4d0723-8852-4352-da20-9b99f3939aae"
      },
      "execution_count": null,
      "outputs": [
        {
          "output_type": "stream",
          "name": "stdout",
          "text": [
            "['toyota', 'subaru', 'bmw', 'audi']\n"
          ]
        }
      ]
    },
    {
      "cell_type": "code",
      "source": [
        "cars : list[str] = ['bmw', 'audi', 'toyota', 'subaru']\n",
        "print(\"Here is the original list:\")\n",
        "print(cars)\n",
        "print(\"\\nHere is the sorted list:\")\n",
        "print(sorted(cars))\n",
        "print(\"\\nHere is the original list again:\")\n",
        "print(cars)"
      ],
      "metadata": {
        "colab": {
          "base_uri": "https://localhost:8080/"
        },
        "id": "aZr3fLxWuWDx",
        "outputId": "4bc8a099-275c-4237-aeff-5994c34e45e8"
      },
      "execution_count": null,
      "outputs": [
        {
          "output_type": "stream",
          "name": "stdout",
          "text": [
            "Here is the original list:\n",
            "['bmw', 'audi', 'toyota', 'subaru']\n",
            "\n",
            "Here is the sorted list:\n",
            "['audi', 'bmw', 'subaru', 'toyota']\n",
            "\n",
            "Here is the original list again:\n",
            "['bmw', 'audi', 'toyota', 'subaru']\n"
          ]
        }
      ]
    },
    {
      "cell_type": "code",
      "source": [
        "cars : list[str] = ['bmw', 'audi', 'toyota', 'subaru']\n",
        "print(cars)\n",
        "cars.reverse()\n",
        "print(cars)"
      ],
      "metadata": {
        "colab": {
          "base_uri": "https://localhost:8080/"
        },
        "id": "e_pji8rnt16r",
        "outputId": "c113ecff-9f12-40fc-9838-c267469a52e0"
      },
      "execution_count": null,
      "outputs": [
        {
          "output_type": "stream",
          "name": "stdout",
          "text": [
            "['bmw', 'audi', 'toyota', 'subaru']\n",
            "['subaru', 'toyota', 'audi', 'bmw']\n"
          ]
        }
      ]
    },
    {
      "cell_type": "code",
      "source": [
        "motorcycles:list[str] = ['honda', 'yamaha', 'suzuki']\n",
        "print(motorcycles)\n",
        "popped_motorcycle:str = motorcycles.pop()\n",
        "print(motorcycles)\n",
        "print(popped_motorcycle)"
      ],
      "metadata": {
        "colab": {
          "base_uri": "https://localhost:8080/"
        },
        "id": "buwv2217viFh",
        "outputId": "79498737-ff31-4c96-b5c2-dff3817f40a7"
      },
      "execution_count": null,
      "outputs": [
        {
          "output_type": "stream",
          "name": "stdout",
          "text": [
            "['honda', 'yamaha', 'suzuki']\n",
            "['honda', 'yamaha']\n",
            "suzuki\n"
          ]
        }
      ]
    },
    {
      "cell_type": "code",
      "source": [
        "motorcycles:list[str] = ['honda', 'yamaha', 'suzuki']\n",
        "print(motorcycles)\n",
        "\n",
        "motorcycles[0] = 'ducati'\n",
        "print(motorcycles)"
      ],
      "metadata": {
        "colab": {
          "base_uri": "https://localhost:8080/"
        },
        "id": "lqC9SIrjwD8t",
        "outputId": "62d94253-48b2-446c-b6c9-18fb7cbd268d"
      },
      "execution_count": null,
      "outputs": [
        {
          "output_type": "stream",
          "name": "stdout",
          "text": [
            "['honda', 'yamaha', 'suzuki']\n",
            "['ducati', 'yamaha', 'suzuki']\n"
          ]
        }
      ]
    },
    {
      "cell_type": "code",
      "source": [
        "motorcycles :list[str] = ['honda', 'yamaha', 'suzuki', 'ducati']\n",
        "print(motorcycles)\n",
        "\n",
        "too_expensive:str = 'ducati'\n",
        "motorcycles.remove(too_expensive)\n",
        "print (motorcycles)\n",
        "print(f\"\\nA {too_expensive.title()} is too expensive for me.\")"
      ],
      "metadata": {
        "colab": {
          "base_uri": "https://localhost:8080/"
        },
        "id": "fmRLUwPgwUfe",
        "outputId": "ae55cb4b-f358-4d8f-bfbd-5af9c21e61e7"
      },
      "execution_count": null,
      "outputs": [
        {
          "output_type": "stream",
          "name": "stdout",
          "text": [
            "['honda', 'yamaha', 'suzuki', 'ducati']\n",
            "['honda', 'yamaha', 'suzuki']\n",
            "\n",
            "A Ducati is too expensive for me.\n"
          ]
        }
      ]
    },
    {
      "cell_type": "code",
      "source": [
        "motorcycles : list[str] = ['honda', 'yamaha', 'suzuki', 'ducati']\n",
        "print(motorcycles)\n",
        "\n",
        "motorcycles[2] = 'civic'\n",
        "print(motorcycles)"
      ],
      "metadata": {
        "colab": {
          "base_uri": "https://localhost:8080/"
        },
        "id": "fzI6tl5b4uD3",
        "outputId": "649a4399-4563-463a-d77c-fbec5ac7d0bb"
      },
      "execution_count": null,
      "outputs": [
        {
          "output_type": "stream",
          "name": "stdout",
          "text": [
            "['honda', 'yamaha', 'suzuki', 'ducati']\n",
            "['honda', 'yamaha', 'civic', 'ducati']\n"
          ]
        }
      ]
    },
    {
      "cell_type": "code",
      "source": [
        "motorcycles : list[str] = ['honda', 'yamaha', 'suzuki', 'ducati']\n",
        "print(motorcycles)\n",
        "\n",
        "too_expensive:str = 'ducati'\n",
        "motorcycles.remove(too_expensive)\n",
        "print(motorcycles)\n",
        "print(f\"\\nA {too_expensive.title()} is too expensive for me.\")"
      ],
      "metadata": {
        "colab": {
          "base_uri": "https://localhost:8080/"
        },
        "id": "pVj6amrp5i5c",
        "outputId": "d3f06c9a-3e53-4049-bc18-649e86e1db30"
      },
      "execution_count": null,
      "outputs": [
        {
          "output_type": "stream",
          "name": "stdout",
          "text": [
            "['honda', 'yamaha', 'suzuki', 'ducati']\n",
            "['honda', 'yamaha', 'suzuki']\n",
            "\n",
            "A Ducati is too expensive for me.\n"
          ]
        }
      ]
    },
    {
      "cell_type": "code",
      "source": [
        "motorcycles : list[str] = ['honda', 'yamaha', 'suzuki']\n",
        "print(motorcycles)\n",
        "\n",
        "motorcycles.append('ducati')\n",
        "print(motorcycles)"
      ],
      "metadata": {
        "colab": {
          "base_uri": "https://localhost:8080/"
        },
        "id": "vxVXsqbr6rH3",
        "outputId": "19f97e30-d260-40b8-94ec-39a010e881e6"
      },
      "execution_count": null,
      "outputs": [
        {
          "output_type": "stream",
          "name": "stdout",
          "text": [
            "['honda', 'yamaha', 'suzuki']\n",
            "['honda', 'yamaha', 'suzuki', 'ducati']\n"
          ]
        }
      ]
    },
    {
      "cell_type": "code",
      "source": [
        "motorcycles:list[str] = []\n",
        "\n",
        "motorcycles.append('honda')\n",
        "motorcycles.append('yamaha')\n",
        "motorcycles.append('suzuki')\n",
        "\n",
        "print(motorcycles)"
      ],
      "metadata": {
        "colab": {
          "base_uri": "https://localhost:8080/"
        },
        "id": "ogwFypJs7zZp",
        "outputId": "40f581d2-0eb8-4af9-acbe-d962d8d76ecc"
      },
      "execution_count": null,
      "outputs": [
        {
          "output_type": "stream",
          "name": "stdout",
          "text": [
            "['honda', 'yamaha', 'suzuki']\n"
          ]
        }
      ]
    },
    {
      "cell_type": "code",
      "source": [
        "motorcycles: list[str] = ['honda', 'yamaha', 'suzuki']\n",
        "\n",
        "motorcycles.insert(0, 'ducati')\n",
        "print(motorcycles)"
      ],
      "metadata": {
        "colab": {
          "base_uri": "https://localhost:8080/"
        },
        "id": "urebk2l-8UPJ",
        "outputId": "4cd3a6de-8b48-42cf-ad0f-4ec58298b98c"
      },
      "execution_count": null,
      "outputs": [
        {
          "output_type": "stream",
          "name": "stdout",
          "text": [
            "['ducati', 'honda', 'yamaha', 'suzuki']\n"
          ]
        }
      ]
    },
    {
      "cell_type": "code",
      "source": [
        "motorcycles:list[str] = ['honda', 'yamaha', 'suzuki']\n",
        "print(motorcycles)\n",
        "\n",
        "del motorcycles[0]\n",
        "print(motorcycles)"
      ],
      "metadata": {
        "colab": {
          "base_uri": "https://localhost:8080/"
        },
        "id": "hS6Br6Wv8mSA",
        "outputId": "57233836-096e-4eeb-d738-907d71d2aacd"
      },
      "execution_count": null,
      "outputs": [
        {
          "output_type": "stream",
          "name": "stdout",
          "text": [
            "['honda', 'yamaha', 'suzuki']\n",
            "['yamaha', 'suzuki']\n"
          ]
        }
      ]
    },
    {
      "cell_type": "code",
      "source": [
        "motorcycles:list[str] = ['honda', 'yamaha', 'suzuki']\n",
        "print(motorcycles)\n",
        "\n",
        "del motorcycles[1]\n",
        "print(motorcycles)"
      ],
      "metadata": {
        "colab": {
          "base_uri": "https://localhost:8080/"
        },
        "id": "OhEVunou9AY9",
        "outputId": "027cb9b6-c0f1-46c0-82fe-e858250714dc"
      },
      "execution_count": null,
      "outputs": [
        {
          "output_type": "stream",
          "name": "stdout",
          "text": [
            "['honda', 'yamaha', 'suzuki']\n",
            "['honda', 'suzuki']\n"
          ]
        }
      ]
    },
    {
      "cell_type": "code",
      "source": [
        "motorcycles:list[str] = ['honda', 'yamaha', 'suzuki']\n",
        "\n",
        "first_owned:str = motorcycles.pop(0)\n",
        "print(f\"The first motorcycle I owned was a {first_owned.title()}.\")"
      ],
      "metadata": {
        "id": "5BP98TNdBTAf"
      },
      "execution_count": null,
      "outputs": []
    },
    {
      "cell_type": "code",
      "source": [
        "motorcycles:list[str] = ['honda', 'yamaha', 'suzuki']\n",
        "\n",
        "first_owned:str = motorcycles.pop(0)\n",
        "print(f\"The first motorcycle I owned was a {first_owned.title()}.\")"
      ],
      "metadata": {
        "colab": {
          "base_uri": "https://localhost:8080/"
        },
        "id": "JlqnGeirEZn5",
        "outputId": "3c9064b3-4a41-4fd1-db29-99095e25790c"
      },
      "execution_count": null,
      "outputs": [
        {
          "output_type": "stream",
          "name": "stdout",
          "text": [
            "The first motorcycle I owned was a Honda.\n"
          ]
        }
      ]
    },
    {
      "cell_type": "code",
      "source": [
        "motorcycles:list[str] = ['honda', 'yamaha', 'suzuki', 'ducati']\n",
        "print(motorcycles)\n",
        "\n",
        "motorcycles.remove('ducati')\n",
        "print(motorcycles)"
      ],
      "metadata": {
        "colab": {
          "base_uri": "https://localhost:8080/"
        },
        "id": "lN38wL0rFRWV",
        "outputId": "95a80008-511f-4167-f438-35e616d8ed59"
      },
      "execution_count": null,
      "outputs": [
        {
          "output_type": "stream",
          "name": "stdout",
          "text": [
            "['honda', 'yamaha', 'suzuki', 'ducati']\n",
            "['honda', 'yamaha', 'suzuki']\n"
          ]
        }
      ]
    },
    {
      "cell_type": "code",
      "source": [
        "cars:list[str] = ['bmw', 'audi', 'toyota', 'subaru']\n",
        "print(cars)\n",
        "\n",
        "cars.reverse()\n",
        "print(cars)"
      ],
      "metadata": {
        "colab": {
          "base_uri": "https://localhost:8080/"
        },
        "id": "zJR8ZcWYFaeO",
        "outputId": "ad76581b-b5c6-4abd-b8c2-8f7a612f9e87"
      },
      "execution_count": null,
      "outputs": [
        {
          "output_type": "stream",
          "name": "stdout",
          "text": [
            "['bmw', 'audi', 'toyota', 'subaru']\n",
            "['subaru', 'toyota', 'audi', 'bmw']\n"
          ]
        }
      ]
    },
    {
      "cell_type": "code",
      "source": [
        "motorcycles:list[str] = ['honda', 'yamaha', 'suzuki', 'ducati']\n",
        "print(motorcycles)\n",
        "\n",
        "too_expensive = 'ducati'\n",
        "motorcycles.remove(too_expensive)\n",
        "print(motorcycles)\n",
        "\n",
        "print(f\"\\nA {too_expensive.title()} is to expensive.\")"
      ],
      "metadata": {
        "colab": {
          "base_uri": "https://localhost:8080/"
        },
        "id": "jUpcDQgCKhgc",
        "outputId": "7d6856fe-42d4-47b7-ccc6-b58765903c48"
      },
      "execution_count": null,
      "outputs": [
        {
          "output_type": "stream",
          "name": "stdout",
          "text": [
            "['honda', 'yamaha', 'suzuki', 'ducati']\n",
            "['honda', 'yamaha', 'suzuki']\n",
            "\n",
            "A Ducati is to expensive.\n"
          ]
        }
      ]
    },
    {
      "cell_type": "markdown",
      "source": [
        "Here's a breakdown of how it works:\n",
        "\n",
        "range(2, 11, 2): This part creates a sequence of numbers starting from 2 (inclusive), going up to 11 (exclusive), and incrementing by 2 in each step. So, it generates the numbers 2, 4, 6, 8, and 10.\n",
        "\n",
        "list(...): The list() function takes the sequence generated by range() and converts it into a list.\n",
        "\n",
        "even_numbers = ...: Finally, you assign this newly created list to the variable even_numbers.\n",
        "You can use this list of even numbers for various purposes in your program, such as iterating through them in a loop or performing calculations.\n",
        "\n",
        "Keep up the great work exploring Python's capabilities! Let me know if you have any other questions or want to try out different ways to manipulate lists."
      ],
      "metadata": {
        "id": "1TyQwyCZSjQD"
      }
    },
    {
      "cell_type": "code",
      "source": [
        "even_numbers:list[int] = list(range(2, 11, 2))\n",
        "print(even_numbers)"
      ],
      "metadata": {
        "colab": {
          "base_uri": "https://localhost:8080/"
        },
        "id": "Xx6wUNHvSkNH",
        "outputId": "03550dfe-6d18-46ca-a6a8-c43c01b727ad"
      },
      "execution_count": null,
      "outputs": [
        {
          "output_type": "stream",
          "name": "stdout",
          "text": [
            "[2, 4, 6, 8, 10]\n"
          ]
        }
      ]
    },
    {
      "cell_type": "markdown",
      "source": [
        "What is a Tuple?\n",
        "\n",
        "Ordered Collection: Like lists, tuples store an ordered sequence of items. You can access elements by their index (position), starting from 0 for the first element.\n",
        "\n",
        "Immutable: This is the key difference! Once you create a tuple, you cannot change its contents. You can't add, remove, or modify elements within the tuple.\n",
        "Creating Tuples:\n",
        "\n",
        "Using Parentheses: Tuples are typically defined using parentheses (), with elements separated by commas."
      ],
      "metadata": {
        "id": "HS5lf_jAQYpw"
      }
    },
    {
      "cell_type": "code",
      "source": [
        "# with parenthesis\n",
        "my_tuple1 = (1, \"apple\", 3.14)\n",
        "print(my_tuple1)\n",
        "print(my_tuple1[1])\n",
        "print(my_tuple1[2])\n",
        "# witout parenthesis\n",
        "my_tuple2 = 1, \"apple\", 3.14\n",
        "print(my_tuple2)\n",
        "print(my_tuple2[1])\n",
        "print(my_tuple2[2])"
      ],
      "metadata": {
        "colab": {
          "base_uri": "https://localhost:8080/"
        },
        "id": "66hQxU0RQaV7",
        "outputId": "18f7ef07-2103-4321-dc14-69453a5bfa36"
      },
      "execution_count": null,
      "outputs": [
        {
          "output_type": "stream",
          "name": "stdout",
          "text": [
            "(1, 'apple', 3.14)\n",
            "apple\n",
            "3.14\n",
            "(1, 'apple', 3.14)\n",
            "apple\n",
            "3.14\n"
          ]
        }
      ]
    },
    {
      "cell_type": "code",
      "source": [
        "dimensions:tuple[int,int] = (200, 50)\n",
        "print(dimensions[0])\n",
        "print(dimensions[1])"
      ],
      "metadata": {
        "colab": {
          "base_uri": "https://localhost:8080/"
        },
        "id": "xfo_trLcMJr1",
        "outputId": "67d9f748-51b6-4dff-c5e4-3fd49fac70af"
      },
      "execution_count": null,
      "outputs": [
        {
          "output_type": "stream",
          "name": "stdout",
          "text": [
            "200\n",
            "50\n"
          ]
        }
      ]
    },
    {
      "cell_type": "markdown",
      "source": [
        "Tuple ammi ki banai hoi grocery list jise badlna na mumkin he"
      ],
      "metadata": {
        "id": "ov-6udnHNQ5Y"
      }
    },
    {
      "cell_type": "code",
      "source": [
        "dimensions:tuple[int,int] = (200, 50)\n",
        "dimensions[0] = 250"
      ],
      "metadata": {
        "colab": {
          "base_uri": "https://localhost:8080/",
          "height": 159
        },
        "id": "at_WraAMMK7e",
        "outputId": "340e1af0-5624-4a6a-dc2c-d0571201277f"
      },
      "execution_count": null,
      "outputs": [
        {
          "output_type": "error",
          "ename": "TypeError",
          "evalue": "'tuple' object does not support item assignment",
          "traceback": [
            "\u001b[0;31m---------------------------------------------------------------------------\u001b[0m",
            "\u001b[0;31mTypeError\u001b[0m                                 Traceback (most recent call last)",
            "\u001b[0;32m<ipython-input-19-6bc190de2552>\u001b[0m in \u001b[0;36m<cell line: 2>\u001b[0;34m()\u001b[0m\n\u001b[1;32m      1\u001b[0m \u001b[0mdimensions\u001b[0m\u001b[0;34m:\u001b[0m\u001b[0mtuple\u001b[0m\u001b[0;34m[\u001b[0m\u001b[0mint\u001b[0m\u001b[0;34m,\u001b[0m\u001b[0mint\u001b[0m\u001b[0;34m]\u001b[0m \u001b[0;34m=\u001b[0m \u001b[0;34m(\u001b[0m\u001b[0;36m200\u001b[0m\u001b[0;34m,\u001b[0m \u001b[0;36m50\u001b[0m\u001b[0;34m)\u001b[0m\u001b[0;34m\u001b[0m\u001b[0;34m\u001b[0m\u001b[0m\n\u001b[0;32m----> 2\u001b[0;31m \u001b[0mdimensions\u001b[0m\u001b[0;34m[\u001b[0m\u001b[0;36m0\u001b[0m\u001b[0;34m]\u001b[0m \u001b[0;34m=\u001b[0m \u001b[0;36m250\u001b[0m\u001b[0;34m\u001b[0m\u001b[0;34m\u001b[0m\u001b[0m\n\u001b[0m",
            "\u001b[0;31mTypeError\u001b[0m: 'tuple' object does not support item assignment"
          ]
        }
      ]
    },
    {
      "cell_type": "code",
      "source": [
        "dimensions:tuple[int,int] = (200, 50)\n",
        "for dimension in dimensions:\n",
        "    print(dimension)"
      ],
      "metadata": {
        "id": "pEz__zlJOvSl"
      },
      "execution_count": null,
      "outputs": []
    },
    {
      "cell_type": "markdown",
      "source": [
        "Tuples are Immutable\n",
        "\n",
        "Once a tuple is created, you cannot change the values of its individual elements. So, in your code, when you try to assign dimensions:tuple[int,int] = (400, 100) after creating the tuple, it doesn't modify the original tuple. Instead, it creates a new tuple with the new values and assigns it to the dimensions variable.\n",
        "\n",
        "Achieving the Desired Output\n",
        "\n",
        "If you want to work with values that you can modify, you should use a list instead of a tuple. Lists are mutable, meaning you can change their elements.\n",
        "\n",
        "Here's how you can achieve the output you're looking for using a list:\n",
        "\n",
        "Key Point: Choose tuples when you need a collection of items that should not be changed after creation. Use lists when you need a collection that allows modifications."
      ],
      "metadata": {
        "id": "lujFAO_RR3-2"
      }
    },
    {
      "cell_type": "code",
      "source": [
        "dimensions:tuple[int,int] = (200, 50)\n",
        "print(\"Original dimensions:\")\n",
        "for dimension in dimensions:\n",
        "    print(dimension)\n",
        "\n",
        "dimensions:tuple[int,int] = (400, 100)\n",
        "print(\"\\nModified dimensions:\")\n",
        "for dimension in dimensions:\n",
        "    print(dimension)"
      ],
      "metadata": {
        "colab": {
          "base_uri": "https://localhost:8080/"
        },
        "id": "8_dnIqDORVZ2",
        "outputId": "0faf0b83-7693-48b6-fe97-ca21b13b3923"
      },
      "execution_count": null,
      "outputs": [
        {
          "output_type": "stream",
          "name": "stdout",
          "text": [
            "Original dimensions:\n",
            "200\n",
            "50\n",
            "\n",
            "Modified dimensions:\n",
            "400\n",
            "100\n"
          ]
        }
      ]
    },
    {
      "cell_type": "markdown",
      "source": [
        "Using the break Statement\n",
        "\n",
        "The break statement immediately terminates the loop, regardless of the loop's condition."
      ],
      "metadata": {
        "id": "FknHsBu8PegS"
      }
    },
    {
      "cell_type": "code",
      "source": [
        "for number in range(1, 11):\n",
        "    if number == 5:\n",
        "        break  # Exit the loop when number reaches 5\n",
        "    print(number)"
      ],
      "metadata": {
        "colab": {
          "base_uri": "https://localhost:8080/"
        },
        "id": "PpB6jyLCPPwM",
        "outputId": "d95a2ca0-4731-4d91-dc81-722d75adfb25"
      },
      "execution_count": null,
      "outputs": [
        {
          "output_type": "stream",
          "name": "stdout",
          "text": [
            "1\n",
            "2\n",
            "3\n",
            "4\n"
          ]
        }
      ]
    },
    {
      "cell_type": "markdown",
      "source": [
        "Using a Conditional Statement within the Loop\n",
        "\n",
        "You can use an if statement to check for a specific condition and then break the loop if the condition is met.\n"
      ],
      "metadata": {
        "id": "edk8ZoB8PkF2"
      }
    },
    {
      "cell_type": "code",
      "source": [
        "for name in [\"Alice\", \"Bob\", \"Charlie\"]:\n",
        "    if name == \"Bob\":\n",
        "        break\n",
        "    print(\"Hello, \" + name + \"!\")"
      ],
      "metadata": {
        "colab": {
          "base_uri": "https://localhost:8080/"
        },
        "id": "aymuX_GjPp-M",
        "outputId": "7fe77ffb-b84c-4339-abf7-112c87b1866b"
      },
      "execution_count": null,
      "outputs": [
        {
          "output_type": "stream",
          "name": "stdout",
          "text": [
            "Hello, Alice!\n"
          ]
        }
      ]
    },
    {
      "cell_type": "markdown",
      "source": [
        "Important Note: The break statement will only exit the innermost loop if you have nested loops.\n",
        "\n",
        "Let me know if you have a specific scenario in mind, and I can provide a more tailored example!\n",
        "\n",
        "And if you want to continue exploring this topic, try one of these follow-up questions:"
      ],
      "metadata": {
        "id": "cIiX2Z3WP79d"
      }
    },
    {
      "cell_type": "code",
      "source": [
        "even_numbers:list[int] = list(range(2, 11, 2))\n",
        "print(even_numbers)"
      ],
      "metadata": {
        "id": "VkvEK5HOP_OL"
      },
      "execution_count": null,
      "outputs": []
    },
    {
      "cell_type": "markdown",
      "source": [
        "That code snippet will print the numbers 1 through 4.\n",
        "\n",
        "Here's why:\n",
        "\n",
        "range(1, 5): This generates a sequence of numbers starting at 1 and going up to, but not including, 5. So, it produces: 1, 2, 3, 4.\n",
        "\n",
        "for value in ...: This loop iterates through each number in the sequence generated by range(1, 5). In each iteration, the current number is assigned to the variable value.\n",
        "\n",
        "print(value): Inside the loop, this line prints the value of value for each iteration."
      ],
      "metadata": {
        "id": "6f1ik6iNTFjU"
      }
    },
    {
      "cell_type": "code",
      "source": [
        "for value in range(1, 5):\n",
        "    print(value)"
      ],
      "metadata": {
        "colab": {
          "base_uri": "https://localhost:8080/"
        },
        "id": "_TfNORrZTPc3",
        "outputId": "f15d3926-155a-4bed-ea73-b893625de43b"
      },
      "execution_count": null,
      "outputs": [
        {
          "output_type": "stream",
          "name": "stdout",
          "text": [
            "1\n",
            "2\n",
            "3\n",
            "4\n"
          ]
        }
      ]
    },
    {
      "cell_type": "code",
      "source": [
        "for value in range(1, 6):\n",
        "    print(value)"
      ],
      "metadata": {
        "colab": {
          "base_uri": "https://localhost:8080/"
        },
        "id": "Dd0QYO8LTnDk",
        "outputId": "e9608252-6d08-4980-9359-c4159037d035"
      },
      "execution_count": null,
      "outputs": [
        {
          "output_type": "stream",
          "name": "stdout",
          "text": [
            "1\n",
            "2\n",
            "3\n",
            "4\n",
            "5\n"
          ]
        }
      ]
    },
    {
      "cell_type": "markdown",
      "source": [
        "Here's how it works step-by-step:\n",
        "\n",
        "range(1, 6): This creates a sequence of numbers starting from 1 (inclusive) and going up to 6 (exclusive). So, it generates: 1, 2, 3, 4, 5.\n",
        "\n",
        "list(...): The list() function takes the sequence generated by range() and converts it into a list.\n",
        "\n",
        "numbers = ...: You then assign this newly created list to the variable numbers."
      ],
      "metadata": {
        "id": "wcDSAfCOUHKl"
      }
    },
    {
      "cell_type": "code",
      "source": [
        "numbers:list[int] = list(range(1, 6))\n",
        "print(numbers)"
      ],
      "metadata": {
        "colab": {
          "base_uri": "https://localhost:8080/"
        },
        "id": "_jeyQjH4UDgF",
        "outputId": "21f131e9-dcb8-4466-cc3b-334770a2d1c3"
      },
      "execution_count": null,
      "outputs": [
        {
          "output_type": "stream",
          "name": "stdout",
          "text": [
            "[1, 2, 3, 4, 5]\n"
          ]
        }
      ]
    },
    {
      "cell_type": "markdown",
      "source": [
        "my_foods[:]: This part is key! It creates a slice of the entire my_foods list. Using [:] ensures that you're copying all the elements from the beginning to the end of the list.\n",
        "\n",
        "Separate Lists: By assigning this slice to friend_foods, you're creating a new, independent list. This means any changes you make to friend_foods won't affect my_foods, and vice versa."
      ],
      "metadata": {
        "id": "ljDm5ktXUncI"
      }
    },
    {
      "cell_type": "code",
      "source": [
        "my_foods:list[str] = ['pizza', 'falafel', 'carrot cake']\n",
        "friend_foods:list[str] = my_foods[:]\n",
        "\n",
        "print(\"My favorite foods are:\")\n",
        "print(my_foods)\n",
        "\n",
        "print(\"\\nMy friend's favorite foods are:\")\n",
        "print(friend_foods)"
      ],
      "metadata": {
        "colab": {
          "base_uri": "https://localhost:8080/"
        },
        "id": "j-3E7IXAUoYE",
        "outputId": "2b97adea-ab6d-42bb-b3ba-5a5f9dd30d85"
      },
      "execution_count": null,
      "outputs": [
        {
          "output_type": "stream",
          "name": "stdout",
          "text": [
            "My favorite foods are:\n",
            "['pizza', 'falafel', 'carrot cake']\n",
            "\n",
            "My friend's favorite foods are:\n",
            "['pizza', 'falafel', 'carrot cake']\n"
          ]
        }
      ]
    },
    {
      "cell_type": "markdown",
      "source": [
        "By using friend_foods = my_foods[:], you ensured that changes to one list wouldn't affect the other.\n",
        "\n",
        "As you can see:\n",
        "\n",
        "my_foods now includes 'cannoli' but not 'ice cream'.\n",
        "friend_foods includes 'ice cream' but not 'cannoli'.\n",
        "This concept of creating independent copies of lists is crucial when you want to modify one list without altering the original."
      ],
      "metadata": {
        "id": "gl2XhQhcVWFW"
      }
    },
    {
      "cell_type": "code",
      "source": [],
      "metadata": {
        "id": "eZ_NNR7xVkOc"
      },
      "execution_count": null,
      "outputs": []
    },
    {
      "cell_type": "markdown",
      "source": [
        " That's a very insightful observation about a common pitfall in Python.\n",
        "\n",
        "When you assign friend_foods = my_foods without using slicing ([:]), you are not creating a copy of the list. Instead, you are making friend_foods and my_foods refer to the same list in the computer's memory.\n",
        "\n",
        "So, any changes made through either friend_foods or my_foods will affect the same underlying list.\n",
        "Key Takeaway: To create a true copy of a list, always use slicing ([:]) during assignment. This ensures that you have two independent lists that can be modified separately."
      ],
      "metadata": {
        "id": "jsQH_tonXE3K"
      }
    },
    {
      "cell_type": "code",
      "source": [
        "my_foods:list[str] = ['pizza', 'falafel', 'carrot cake']\n",
        "\n",
        "# This doesn't work:\n",
        "friend_foods = my_foods\n",
        "\n",
        "my_foods.append('cannoli')\n",
        "friend_foods.append('ice cream')\n",
        "\n",
        "print(\"My favorite foods are:\")\n",
        "print(my_foods)\n",
        "\n",
        "print(\"\\nMy friend's favorite foods are:\")\n",
        "print(friend_foods)"
      ],
      "metadata": {
        "colab": {
          "base_uri": "https://localhost:8080/"
        },
        "id": "_2tyoBj-XJ6Y",
        "outputId": "8065b913-bb03-4a89-a5d5-4b3df854d8bf"
      },
      "execution_count": null,
      "outputs": [
        {
          "output_type": "stream",
          "name": "stdout",
          "text": [
            "My favorite foods are:\n",
            "['pizza', 'falafel', 'carrot cake', 'cannoli', 'ice cream']\n",
            "\n",
            "My friend's favorite foods are:\n",
            "['pizza', 'falafel', 'carrot cake', 'cannoli', 'ice cream']\n"
          ]
        }
      ]
    }
  ]
}