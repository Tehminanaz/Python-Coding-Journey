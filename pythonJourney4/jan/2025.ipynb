{
  "nbformat": 4,
  "nbformat_minor": 0,
  "metadata": {
    "colab": {
      "provenance": [],
      "authorship_tag": "ABX9TyPC63Oc9K1esXn2v/x5S2kA",
      "include_colab_link": true
    },
    "kernelspec": {
      "name": "python3",
      "display_name": "Python 3"
    },
    "language_info": {
      "name": "python"
    }
  },
  "cells": [
    {
      "cell_type": "markdown",
      "metadata": {
        "id": "view-in-github",
        "colab_type": "text"
      },
      "source": [
        "<a href=\"https://colab.research.google.com/github/Tehminanaz/Python-Coding-Journey/blob/main/pythonJourney4/jan/2025.ipynb\" target=\"_parent\"><img src=\"https://colab.research.google.com/assets/colab-badge.svg\" alt=\"Open In Colab\"/></a>"
      ]
    },
    {
      "cell_type": "markdown",
      "source": [
        "Step 1: Python Basics Task\n",
        "1. Variables aur Input"
      ],
      "metadata": {
        "id": "H4sAruVw7yWs"
      }
    },
    {
      "cell_type": "code",
      "source": [
        "name = input(\"Enter your name: \")\n",
        "age = int(input(\"Enter your age\"))\n",
        "print(f\"Hello {name} you are {age} year old \")"
      ],
      "metadata": {
        "colab": {
          "base_uri": "https://localhost:8080/"
        },
        "id": "5GrauqXP9Gjo",
        "outputId": "07218857-f2b4-44e5-c13c-bffa5a0a5f22"
      },
      "execution_count": 1,
      "outputs": [
        {
          "output_type": "stream",
          "name": "stdout",
          "text": [
            "Enter your name: tehmina naz\n",
            "Enter your age25\n",
            "Hello tehmina naz you are 25 year old \n"
          ]
        }
      ]
    },
    {
      "cell_type": "markdown",
      "source": [
        "2. Basic Calculations\n"
      ],
      "metadata": {
        "id": "Ymj6VtrYVqjT"
      }
    },
    {
      "cell_type": "code",
      "source": [
        "num1 = float(input(\"Enter first number\"))\n",
        "num2 = float(input(\"Enter second number\"))\n",
        "\n",
        "print(\"Sum:\", num1 + num2)\n",
        "print(\"Difference:\", num1 - num2)\n",
        "print(\"Product:\", num1 * num2)\n",
        "print(\"Division:\", num1 / num2)"
      ],
      "metadata": {
        "colab": {
          "base_uri": "https://localhost:8080/"
        },
        "id": "35Rl2ksBVrvG",
        "outputId": "81ca3595-af98-4817-ee59-95307f36913c"
      },
      "execution_count": 3,
      "outputs": [
        {
          "output_type": "stream",
          "name": "stdout",
          "text": [
            "Enter first number4\n",
            "Enter second number4\n",
            "Sum: 8.0\n",
            "Difference: 0.0\n",
            "Product: 16.0\n",
            "Division: 1.0\n"
          ]
        }
      ]
    },
    {
      "cell_type": "markdown",
      "source": [
        "3. Loops (For Loop Practice)"
      ],
      "metadata": {
        "id": "SPJ3w0X5WUYZ"
      }
    },
    {
      "cell_type": "code",
      "source": [
        "for i in range(1, 11):\n",
        "    print(f\"{i} square is {i**2}\")"
      ],
      "metadata": {
        "colab": {
          "base_uri": "https://localhost:8080/"
        },
        "id": "TF2LiooWWZH6",
        "outputId": "ecea8222-bf8e-4361-ee77-f7f7781bbc60"
      },
      "execution_count": 9,
      "outputs": [
        {
          "output_type": "stream",
          "name": "stdout",
          "text": [
            "1 square is 1\n",
            "2 square is 4\n",
            "3 square is 9\n",
            "4 square is 16\n",
            "5 square is 25\n",
            "6 square is 36\n",
            "7 square is 49\n",
            "8 square is 64\n",
            "9 square is 81\n",
            "10 square is 100\n"
          ]
        }
      ]
    },
    {
      "cell_type": "markdown",
      "source": [
        "Practice Task: Build a Simple Chat-Like Experience\n"
      ],
      "metadata": {
        "id": "_-WEDYBbW63S"
      }
    },
    {
      "cell_type": "code",
      "source": [
        "print(\"Hello! Welcome to your AI Assistant. 👋\")\n",
        "\n",
        "name = input(\"what's your name?\")\n",
        "age = input(\"what's your age?\")\n",
        "activity = input(\"what's your favorite activity?\")\n",
        "\n",
        "print(f\"Nice to meet you, {name}! At {age}, {activity} sounds like a great activity! \")\n"
      ],
      "metadata": {
        "colab": {
          "base_uri": "https://localhost:8080/"
        },
        "id": "Xqlznbo2XA1U",
        "outputId": "608e20e8-e18b-41e8-ca54-941d434d9b1c"
      },
      "execution_count": 2,
      "outputs": [
        {
          "output_type": "stream",
          "name": "stdout",
          "text": [
            "Hello! Welcome to your AI Assistant. 👋\n",
            "what's your name?Tehmina naz \n",
            "what's your age?25\n",
            "what's your favorite activity?coding \n",
            "Nice to meet you, Tehmina naz ! At 25, coding  sounds like a great activity! \n"
          ]
        }
      ]
    },
    {
      "cell_type": "code",
      "source": [
        "print(\"Hello i'm your AI assistant!\")\n",
        "\n",
        "name = input(\"what's your name?\")\n",
        "age = input(\"what's your age?\")\n",
        "field_of_interest = input(\"What’s your field of interest (technology, art, or sports)?\")\n",
        "\n",
        "if field_of_interest == \"technology\":\n",
        "   print(f\"Nice to meet you, {name}! Since you're {age} and interested in Technology, I recommend learning Python for AI. It's a fantastic skill to enhance your career! \")\n",
        "elif field_of_interest == \"art\":\n",
        "   print(f\"Nice choice, {name}! At {age}, exploring digital art tools like Photoshop or Blender could be both fun and rewarding. \")\n",
        "else:\n",
        "    print(f\"Thank you, {name}. Your field of interest sounds unique! Let me know if you'd like specific recommendations.\")\n"
      ],
      "metadata": {
        "id": "oHFJj1fIxTxf",
        "outputId": "14e99df0-866e-42de-bbdc-e8b69ecea1c8",
        "colab": {
          "base_uri": "https://localhost:8080/"
        }
      },
      "execution_count": 5,
      "outputs": [
        {
          "output_type": "stream",
          "name": "stdout",
          "text": [
            "Hello i'm your AI assistant!\n",
            "what's your name?Tehmina naz\n",
            "what's your age?20\n",
            "What’s your field of interest (technology, art, or sports)?art\n",
            "Nice choice, Tehmina naz! At 20, exploring digital art tools like Photoshop or Blender could be both fun and rewarding. \n"
          ]
        }
      ]
    },
    {
      "cell_type": "code",
      "source": [
        "temperature = float(input(\"Please enter the temperature in °C:\"))\n",
        "weather = input(\"Please enter the weather condition (sunny, rainy, snowy,cloudy or windy):\")\n",
        "\n",
        "if weather == \"rainy\":\n",
        "   if temperature < 20:\n",
        "    print(\"It's rainy and cold. Carry an umbrella and wear a jacket!\")\n",
        "   else:\n",
        "      print(\"It's rainy but not too cold. Don't forget your umbrella!\")\n",
        "elif weather == \"sunny\":\n",
        "    if temperature >= 30:\n",
        "      print(\"It's sunny and hot. Wear sunscreen and drink plenty of water!\")\n",
        "    else:\n",
        "      print(\"It's sunny and pleasant. Enjoy your day!\")\n",
        "elif weather == \"cloudy\":\n",
        "     if 20 <= temperature <= 30:\n",
        "      print(\"It's cloudy and pleasant. A perfect day to enjoy! \")\n",
        "     else:\n",
        "      print(\"It's cloudy but not in the comfortable range. Stay prepared!\")\n",
        "else:\n",
        "    print(\"Sorry, I couldn't understand the weather condition. Please input sunny, rainy, or cloudy.\")\n",
        "\n"
      ],
      "metadata": {
        "id": "XvhpIjUQ25gZ",
        "outputId": "6a3dd2e9-0d2d-475a-a41e-858242209b42",
        "colab": {
          "base_uri": "https://localhost:8080/"
        }
      },
      "execution_count": 6,
      "outputs": [
        {
          "output_type": "stream",
          "name": "stdout",
          "text": [
            "Please enter the temperature in °C:25\n",
            "Please enter the weather condition (sunny, rainy, snowy, or windy):cloudy\n",
            "It's cloudy and pleasant. A perfect day to enjoy! \n"
          ]
        }
      ]
    },
    {
      "cell_type": "markdown",
      "source": [
        "Task: Chatbot with Predefined Responses"
      ],
      "metadata": {
        "id": "tybxfHnz5uMg"
      }
    },
    {
      "cell_type": "code",
      "source": [
        "print(\"Welcome to the AI Chatbot! Ask me anything. (Type 'exit' to end)\")\n",
        "\n",
        "while True:\n",
        "\n",
        "  user_input = input(\"you: \").strip().lower()\n",
        "\n",
        "  if user_input == \"exit\":\n",
        "      print(\"AI: Goodbye! Have a great day!\")\n",
        "      break\n",
        "\n",
        "  if user_input == \"hello\":\n",
        "        print(\"AI: Hi there! How can I assist you today?\")\n",
        "  elif user_input == \"what's your name?\":\n",
        "        print(\"AI: My name is AI Assistant.\")\n",
        "  elif user_input == \"how are you?\":\n",
        "        print(\"AI: I'm just a bunch of code, but I'm fine!\")\n",
        "  elif user_input == \"what can you do?\":\n",
        "        print(\"AI: I can assist you with learning and provide information.\")\n",
        "  else:\n",
        "        print(\"AI: Sorry, I don't understand that question.\")\n",
        ""
      ],
      "metadata": {
        "id": "j5eBKZe55m6s",
        "outputId": "4082710e-9003-4b48-9eae-cec380c5f058",
        "colab": {
          "base_uri": "https://localhost:8080/"
        }
      },
      "execution_count": 13,
      "outputs": [
        {
          "output_type": "stream",
          "name": "stdout",
          "text": [
            "Welcome to the AI Chatbot! Ask me anything. (Type 'exit' to end)\n",
            "you: hello\n",
            "AI: Hi there! How can I assist you today?\n",
            "you: what's your name?\n",
            "AI: My name is AI Assistant.\n",
            "you: exit\n",
            "AI: Goodbye! Have a great day!\n"
          ]
        }
      ]
    },
    {
      "cell_type": "code",
      "source": [
        "# Step 1: Display a welcome message\n",
        "print(\"Welcome to the AI Chatbot! Ask me anything. (Type 'exit' to end)\")\n",
        "\n",
        "# Step 2: Loop for continuous conversation\n",
        "while True:\n",
        "    # Get user input\n",
        "    user_input = input(\"You: \").strip().lower()\n",
        "\n",
        "    # Exit condition\n",
        "    if user_input == \"exit\":\n",
        "        print(\"AI: Goodbye! Have a great day! 😊\")\n",
        "        break\n",
        "\n",
        "    # Predefined responses\n",
        "    if user_input == \"what's your name?\":\n",
        "        print(\"AI: My name is AI Assistant.\")\n",
        "    elif user_input == \"how are you?\":\n",
        "        print(\"AI: I'm just a bunch of code, but I'm fine!\")\n",
        "    elif user_input == \"what can you do?\":\n",
        "        print(\"AI: I can assist you with learning and provide information.\")\n",
        "    else:\n",
        "        print(\"AI: Sorry, I don't understand that question.\")\n"
      ],
      "metadata": {
        "colab": {
          "base_uri": "https://localhost:8080/"
        },
        "id": "KMsd2i-rAQgn",
        "outputId": "ba9960a7-b9f3-4f24-ab68-d7bfd5e4a0f7"
      },
      "execution_count": 11,
      "outputs": [
        {
          "output_type": "stream",
          "name": "stdout",
          "text": [
            "Welcome to the AI Chatbot! Ask me anything. (Type 'exit' to end)\n",
            "You: what's your name?\n",
            "AI: My name is AI Assistant.\n",
            "You: hello\n",
            "AI: Sorry, I don't understand that question.\n",
            "You: exit\n",
            "AI: Goodbye! Have a great day! 😊\n"
          ]
        }
      ]
    },
    {
      "cell_type": "markdown",
      "source": [
        "Task: Sentiment Analysis Simplified"
      ],
      "metadata": {
        "id": "vtSq6ViSBn5E"
      }
    },
    {
      "cell_type": "code",
      "source": [
        "positive_words = [\"happy\", \"great\", \"awesome\", \"fantastic\", \"good\", \"excellent\"]\n",
        "negative_words = [\"sad\", \"bad\", \"terrible\", \"awful\", \"horrible\", \"worst\"]\n",
        "\n",
        "# Step 2: Get user input\n",
        "sentence = input(\"Please enter a sentence: \").lower()\n",
        "\n",
        "sentence  = input(\"Please enter a sentence: \").strip().lower()\n",
        "\n",
        "positive_count = sum(word in sentence for word in positive_words)\n",
        "negative_count = sum(word in sentence for word in negative_words)\n",
        "\n",
        "# Step 4: Determine sentiment\n",
        "if positive_count > negative_count:\n",
        "    print(\"Analysis: Positive 😊\")\n",
        "elif negative_count > positive_count:\n",
        "    print(\"Analysis: Negative 😔\")\n",
        "else:\n",
        "    print(\"Analysis: Neutral 😐\")\n",
        "\n",
        "\n",
        "\n"
      ],
      "metadata": {
        "id": "hr3UJuaiBV0S",
        "outputId": "c874b9ad-c96c-4bef-e3a9-8db657c1b4d0",
        "colab": {
          "base_uri": "https://localhost:8080/"
        }
      },
      "execution_count": 15,
      "outputs": [
        {
          "output_type": "stream",
          "name": "stdout",
          "text": [
            "Please enter a sentence: i am happy\n",
            "Please enter a sentence: happy\n",
            "Analysis: Positive 😊\n"
          ]
        }
      ]
    },
    {
      "cell_type": "markdown",
      "source": [
        "Task: Build a Simple To-Do List Manager"
      ],
      "metadata": {
        "id": "CG7NL9WkOeGN"
      }
    },
    {
      "cell_type": "code",
      "source": [
        "# Step 1: Create an empty to-do list\n",
        "tasks = []\n",
        "\n",
        "# Step 2: Display a menu and perform actions\n",
        "while True:\n",
        "    print(\"\\nWelcome to the To-Do List Manager!\")\n",
        "    print(\"What would you like to do?\")\n",
        "    print(\"1. Add a task\")\n",
        "    print(\"2. View tasks\")\n",
        "    print(\"3. Remove a task\")\n",
        "    print(\"Type 'exit' to quit.\")\n",
        "\n",
        "    choice = input(\"Enter your choice: \").strip()\n",
        "\n",
        "    if choice == \"1\":\n",
        "        # Add a new task\n",
        "        task = input(\"Enter the task: \").strip()\n",
        "        tasks.append(task)\n",
        "        print(\"Task added successfully!\")\n",
        "    elif choice == \"2\":\n",
        "        # View all tasks\n",
        "        if not tasks:\n",
        "            print(\"Your task list is empty.\")\n",
        "        else:\n",
        "            print(\"Your tasks are:\")\n",
        "            for idx, task in enumerate(tasks, start=1):\n",
        "                print(f\"{idx}. {task}\")\n",
        "    elif choice == \"3\":\n",
        "        # Remove a specific task\n",
        "        if not tasks:\n",
        "            print(\"Your task list is empty.\")\n",
        "        else:\n",
        "            for idx, task in enumerate(tasks, start=1):\n",
        "                print(f\"{idx}. {task}\")\n",
        "            try:\n",
        "                task_num = int(input(\"Enter the task number to remove: \").strip())\n",
        "                if 1 <= task_num <= len(tasks):\n",
        "                    removed_task = tasks.pop(task_num - 1)\n",
        "                    print(f\"Task '{removed_task}' removed successfully!\")\n",
        "                else:\n",
        "                    print(\"Invalid task number. Please try again.\")\n",
        "            except ValueError:\n",
        "                print(\"Please enter a valid number.\")\n",
        "    elif choice.lower() == \"exit\":\n",
        "        print(\"Goodbye! Have a productive day! 😊\")\n",
        "        break\n",
        "    else:\n",
        "        print(\"Invalid choice. Please select a valid option.\")\n"
      ],
      "metadata": {
        "id": "TIZTZ8V0Of40",
        "outputId": "248aed02-181a-419e-a782-8b262eb57c85",
        "colab": {
          "base_uri": "https://localhost:8080/"
        }
      },
      "execution_count": 16,
      "outputs": [
        {
          "output_type": "stream",
          "name": "stdout",
          "text": [
            "\n",
            "Welcome to the To-Do List Manager!\n",
            "What would you like to do?\n",
            "1. Add a task\n",
            "2. View tasks\n",
            "3. Remove a task\n",
            "Type 'exit' to quit.\n",
            "Enter your choice: 1\n",
            "Enter the task: apple\n",
            "Task added successfully!\n",
            "\n",
            "Welcome to the To-Do List Manager!\n",
            "What would you like to do?\n",
            "1. Add a task\n",
            "2. View tasks\n",
            "3. Remove a task\n",
            "Type 'exit' to quit.\n",
            "Enter your choice: banana\n",
            "Invalid choice. Please select a valid option.\n",
            "\n",
            "Welcome to the To-Do List Manager!\n",
            "What would you like to do?\n",
            "1. Add a task\n",
            "2. View tasks\n",
            "3. Remove a task\n",
            "Type 'exit' to quit.\n",
            "Enter your choice: exit\n",
            "Goodbye! Have a productive day! 😊\n"
          ]
        }
      ]
    }
  ]
}